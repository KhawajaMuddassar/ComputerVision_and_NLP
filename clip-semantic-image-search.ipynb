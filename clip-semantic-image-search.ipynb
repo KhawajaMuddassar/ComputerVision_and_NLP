{
  "nbformat": 4,
  "nbformat_minor": 0,
  "metadata": {
    "colab": {
      "provenance": [],
      "gpuType": "T4",
      "authorship_tag": "ABX9TyPmOdsnWy9PIlOHznlEgWyn",
      "include_colab_link": true
    },
    "kernelspec": {
      "name": "python3",
      "display_name": "Python 3"
    },
    "language_info": {
      "name": "python"
    },
    "widgets": {
      "application/vnd.jupyter.widget-state+json": {
        "6e7cf4aa2ae64cdeabe81e29f20c8de3": {
          "model_module": "@jupyter-widgets/controls",
          "model_name": "HBoxModel",
          "model_module_version": "1.5.0",
          "state": {
            "_dom_classes": [],
            "_model_module": "@jupyter-widgets/controls",
            "_model_module_version": "1.5.0",
            "_model_name": "HBoxModel",
            "_view_count": null,
            "_view_module": "@jupyter-widgets/controls",
            "_view_module_version": "1.5.0",
            "_view_name": "HBoxView",
            "box_style": "",
            "children": [
              "IPY_MODEL_075d29d319ad4d468affdb53833f5286",
              "IPY_MODEL_4074dcd9450742dd9d88712e54bfbbf9",
              "IPY_MODEL_b6ead3d7977b4490a141dfb34088ddec"
            ],
            "layout": "IPY_MODEL_dded3c8b39014240aebf0a6e1c76f6ca"
          }
        },
        "075d29d319ad4d468affdb53833f5286": {
          "model_module": "@jupyter-widgets/controls",
          "model_name": "TextModel",
          "model_module_version": "1.5.0",
          "state": {
            "_dom_classes": [],
            "_model_module": "@jupyter-widgets/controls",
            "_model_module_version": "1.5.0",
            "_model_name": "TextModel",
            "_view_count": null,
            "_view_module": "@jupyter-widgets/controls",
            "_view_module_version": "1.5.0",
            "_view_name": "TextView",
            "continuous_update": true,
            "description": "",
            "description_tooltip": null,
            "disabled": false,
            "layout": "IPY_MODEL_8e2a0a5957e046f3a2a4a9bc2f01c28e",
            "placeholder": "​",
            "style": "IPY_MODEL_3aebe390a7124c5d9d790ddb4e73cd18",
            "value": "Godzilla"
          }
        },
        "4074dcd9450742dd9d88712e54bfbbf9": {
          "model_module": "@jupyter-widgets/controls",
          "model_name": "ButtonModel",
          "model_module_version": "1.5.0",
          "state": {
            "_dom_classes": [],
            "_model_module": "@jupyter-widgets/controls",
            "_model_module_version": "1.5.0",
            "_model_name": "ButtonModel",
            "_view_count": null,
            "_view_module": "@jupyter-widgets/controls",
            "_view_module_version": "1.5.0",
            "_view_name": "ButtonView",
            "button_style": "",
            "description": "Search it",
            "disabled": false,
            "icon": "",
            "layout": "IPY_MODEL_62a3611b4edc42c2bbba6a71f5f2d087",
            "style": "IPY_MODEL_33d8a5d75f7c42408f81613d00b6bb70",
            "tooltip": ""
          }
        },
        "b6ead3d7977b4490a141dfb34088ddec": {
          "model_module": "@jupyter-widgets/controls",
          "model_name": "DropdownModel",
          "model_module_version": "1.5.0",
          "state": {
            "_dom_classes": [],
            "_model_module": "@jupyter-widgets/controls",
            "_model_module_version": "1.5.0",
            "_model_name": "DropdownModel",
            "_options_labels": [
              "Unsplash",
              "Movies"
            ],
            "_view_count": null,
            "_view_module": "@jupyter-widgets/controls",
            "_view_module_version": "1.5.0",
            "_view_name": "DropdownView",
            "description": "",
            "description_tooltip": null,
            "disabled": false,
            "index": 1,
            "layout": "IPY_MODEL_012abb933a4a4ec1b70e5a64d0bc4596",
            "style": "IPY_MODEL_24079a9ef99a40e4aa81cdc93719e59d"
          }
        },
        "dded3c8b39014240aebf0a6e1c76f6ca": {
          "model_module": "@jupyter-widgets/base",
          "model_name": "LayoutModel",
          "model_module_version": "1.2.0",
          "state": {
            "_model_module": "@jupyter-widgets/base",
            "_model_module_version": "1.2.0",
            "_model_name": "LayoutModel",
            "_view_count": null,
            "_view_module": "@jupyter-widgets/base",
            "_view_module_version": "1.2.0",
            "_view_name": "LayoutView",
            "align_content": null,
            "align_items": null,
            "align_self": null,
            "border": null,
            "bottom": null,
            "display": null,
            "flex": null,
            "flex_flow": null,
            "grid_area": null,
            "grid_auto_columns": null,
            "grid_auto_flow": null,
            "grid_auto_rows": null,
            "grid_column": null,
            "grid_gap": null,
            "grid_row": null,
            "grid_template_areas": null,
            "grid_template_columns": null,
            "grid_template_rows": null,
            "height": null,
            "justify_content": "center",
            "justify_items": null,
            "left": null,
            "margin": null,
            "max_height": null,
            "max_width": null,
            "min_height": null,
            "min_width": null,
            "object_fit": null,
            "object_position": null,
            "order": null,
            "overflow": null,
            "overflow_x": null,
            "overflow_y": null,
            "padding": null,
            "right": null,
            "top": null,
            "visibility": null,
            "width": null
          }
        },
        "8e2a0a5957e046f3a2a4a9bc2f01c28e": {
          "model_module": "@jupyter-widgets/base",
          "model_name": "LayoutModel",
          "model_module_version": "1.2.0",
          "state": {
            "_model_module": "@jupyter-widgets/base",
            "_model_module_version": "1.2.0",
            "_model_name": "LayoutModel",
            "_view_count": null,
            "_view_module": "@jupyter-widgets/base",
            "_view_module_version": "1.2.0",
            "_view_name": "LayoutView",
            "align_content": null,
            "align_items": null,
            "align_self": null,
            "border": null,
            "bottom": null,
            "display": null,
            "flex": null,
            "flex_flow": null,
            "grid_area": null,
            "grid_auto_columns": null,
            "grid_auto_flow": null,
            "grid_auto_rows": null,
            "grid_column": null,
            "grid_gap": null,
            "grid_row": null,
            "grid_template_areas": null,
            "grid_template_columns": null,
            "grid_template_rows": null,
            "height": null,
            "justify_content": null,
            "justify_items": null,
            "left": null,
            "margin": null,
            "max_height": null,
            "max_width": null,
            "min_height": null,
            "min_width": null,
            "object_fit": null,
            "object_position": null,
            "order": null,
            "overflow": null,
            "overflow_x": null,
            "overflow_y": null,
            "padding": null,
            "right": null,
            "top": null,
            "visibility": null,
            "width": "400px"
          }
        },
        "3aebe390a7124c5d9d790ddb4e73cd18": {
          "model_module": "@jupyter-widgets/controls",
          "model_name": "DescriptionStyleModel",
          "model_module_version": "1.5.0",
          "state": {
            "_model_module": "@jupyter-widgets/controls",
            "_model_module_version": "1.5.0",
            "_model_name": "DescriptionStyleModel",
            "_view_count": null,
            "_view_module": "@jupyter-widgets/base",
            "_view_module_version": "1.2.0",
            "_view_name": "StyleView",
            "description_width": ""
          }
        },
        "62a3611b4edc42c2bbba6a71f5f2d087": {
          "model_module": "@jupyter-widgets/base",
          "model_name": "LayoutModel",
          "model_module_version": "1.2.0",
          "state": {
            "_model_module": "@jupyter-widgets/base",
            "_model_module_version": "1.2.0",
            "_model_name": "LayoutModel",
            "_view_count": null,
            "_view_module": "@jupyter-widgets/base",
            "_view_module_version": "1.2.0",
            "_view_name": "LayoutView",
            "align_content": null,
            "align_items": null,
            "align_self": null,
            "border": null,
            "bottom": null,
            "display": null,
            "flex": null,
            "flex_flow": null,
            "grid_area": null,
            "grid_auto_columns": null,
            "grid_auto_flow": null,
            "grid_auto_rows": null,
            "grid_column": null,
            "grid_gap": null,
            "grid_row": null,
            "grid_template_areas": null,
            "grid_template_columns": null,
            "grid_template_rows": null,
            "height": null,
            "justify_content": null,
            "justify_items": null,
            "left": null,
            "margin": null,
            "max_height": null,
            "max_width": null,
            "min_height": null,
            "min_width": null,
            "object_fit": null,
            "object_position": null,
            "order": null,
            "overflow": null,
            "overflow_x": null,
            "overflow_y": null,
            "padding": null,
            "right": null,
            "top": null,
            "visibility": null,
            "width": null
          }
        },
        "33d8a5d75f7c42408f81613d00b6bb70": {
          "model_module": "@jupyter-widgets/controls",
          "model_name": "ButtonStyleModel",
          "model_module_version": "1.5.0",
          "state": {
            "_model_module": "@jupyter-widgets/controls",
            "_model_module_version": "1.5.0",
            "_model_name": "ButtonStyleModel",
            "_view_count": null,
            "_view_module": "@jupyter-widgets/base",
            "_view_module_version": "1.2.0",
            "_view_name": "StyleView",
            "button_color": null,
            "font_weight": ""
          }
        },
        "012abb933a4a4ec1b70e5a64d0bc4596": {
          "model_module": "@jupyter-widgets/base",
          "model_name": "LayoutModel",
          "model_module_version": "1.2.0",
          "state": {
            "_model_module": "@jupyter-widgets/base",
            "_model_module_version": "1.2.0",
            "_model_name": "LayoutModel",
            "_view_count": null,
            "_view_module": "@jupyter-widgets/base",
            "_view_module_version": "1.2.0",
            "_view_name": "LayoutView",
            "align_content": null,
            "align_items": null,
            "align_self": null,
            "border": null,
            "bottom": null,
            "display": null,
            "flex": null,
            "flex_flow": null,
            "grid_area": null,
            "grid_auto_columns": null,
            "grid_auto_flow": null,
            "grid_auto_rows": null,
            "grid_column": null,
            "grid_gap": null,
            "grid_row": null,
            "grid_template_areas": null,
            "grid_template_columns": null,
            "grid_template_rows": null,
            "height": null,
            "justify_content": null,
            "justify_items": null,
            "left": null,
            "margin": null,
            "max_height": null,
            "max_width": null,
            "min_height": null,
            "min_width": null,
            "object_fit": null,
            "object_position": null,
            "order": null,
            "overflow": null,
            "overflow_x": null,
            "overflow_y": null,
            "padding": null,
            "right": null,
            "top": null,
            "visibility": null,
            "width": null
          }
        },
        "24079a9ef99a40e4aa81cdc93719e59d": {
          "model_module": "@jupyter-widgets/controls",
          "model_name": "DescriptionStyleModel",
          "model_module_version": "1.5.0",
          "state": {
            "_model_module": "@jupyter-widgets/controls",
            "_model_module_version": "1.5.0",
            "_model_name": "DescriptionStyleModel",
            "_view_count": null,
            "_view_module": "@jupyter-widgets/base",
            "_view_module_version": "1.2.0",
            "_view_name": "StyleView",
            "description_width": ""
          }
        },
        "2a83143146c5481d92cf42e01566bca8": {
          "model_module": "@jupyter-widgets/output",
          "model_name": "OutputModel",
          "model_module_version": "1.0.0",
          "state": {
            "_dom_classes": [],
            "_model_module": "@jupyter-widgets/output",
            "_model_module_version": "1.0.0",
            "_model_name": "OutputModel",
            "_view_count": null,
            "_view_module": "@jupyter-widgets/output",
            "_view_module_version": "1.0.0",
            "_view_name": "OutputView",
            "layout": "IPY_MODEL_1497a9547cae4543946b54df0e8c267f",
            "msg_id": "",
            "outputs": [
              {
                "output_type": "display_data",
                "data": {
                  "text/plain": "<IPython.core.display.HTML object>",
                  "text/html": "<div style='margin-top: 20px; display: flex; flex-wrap: wrap; justify-content: space-evenly'><a href='https://www.themoviedb.org/movie/399566' target='_blank'><img title='Godzilla vs. Kong\nSource: The Movie Database (TMDB)' style='height: 200px; margin-bottom: 10px' src='http://image.tmdb.org/t/p/w780/8iiu1VQjcH7fjKgfzVd0hlOlHXQ.jpg'></a><a href='https://www.themoviedb.org/movie/399566' target='_blank'><img title='Godzilla vs. Kong\nSource: The Movie Database (TMDB)' style='height: 200px; margin-bottom: 10px' src='http://image.tmdb.org/t/p/w780/klqlZnQcjWZm59OOCVfM4dPUhMq.jpg'></a><a href='https://www.themoviedb.org/movie/399566' target='_blank'><img title='Godzilla vs. Kong\nSource: The Movie Database (TMDB)' style='height: 200px; margin-bottom: 10px' src='http://image.tmdb.org/t/p/w780/Abl800WtSz8aZImDbKKDSmd7hjX.jpg'></a><a href='https://www.themoviedb.org/movie/38142' target='_blank'><img title='5 Centimeters per Second\nSource: The Movie Database (TMDB)' style='height: 200px; margin-bottom: 10px' src='http://image.tmdb.org/t/p/w780/1f2Oa13a1VeuXukXzAu3Wdtclgn.jpg'></a><a href='https://www.themoviedb.org/movie/399566' target='_blank'><img title='Godzilla vs. Kong\nSource: The Movie Database (TMDB)' style='height: 200px; margin-bottom: 10px' src='http://image.tmdb.org/t/p/w780/iopYFB1b6Bh7FWZh3onQhph1sih.jpg'></a><a href='https://www.themoviedb.org/movie/399566' target='_blank'><img title='Godzilla vs. Kong\nSource: The Movie Database (TMDB)' style='height: 200px; margin-bottom: 10px' src='http://image.tmdb.org/t/p/w780/wWqTMWkEw6HouLd1zPZbZWxtAPr.jpg'></a><a href='https://www.themoviedb.org/movie/399566' target='_blank'><img title='Godzilla vs. Kong\nSource: The Movie Database (TMDB)' style='height: 200px; margin-bottom: 10px' src='http://image.tmdb.org/t/p/w780/inJjDhCjfhh3RtrJWBmmDqeuSYC.jpg'></a><a href='https://www.themoviedb.org/movie/19995' target='_blank'><img title='Avatar\nSource: The Movie Database (TMDB)' style='height: 200px; margin-bottom: 10px' src='http://image.tmdb.org/t/p/w780/m3k3IZQz2qtqXqTzF4gDeFgPdXb.jpg'></a><a href='https://www.themoviedb.org/movie/81' target='_blank'><img title='Nausicaä of the Valley of the Wind\nSource: The Movie Database (TMDB)' style='height: 200px; margin-bottom: 10px' src='http://image.tmdb.org/t/p/w780/b6LMBGykvdDUE7Vwdyr967tswRY.jpg'></a><a href='https://www.themoviedb.org/movie/399566' target='_blank'><img title='Godzilla vs. Kong\nSource: The Movie Database (TMDB)' style='height: 200px; margin-bottom: 10px' src='http://image.tmdb.org/t/p/w780/mGJuQwMq1bEboaVTqQAK4p4zQvC.jpg'></a><a href='https://www.themoviedb.org/movie/198375' target='_blank'><img title='The Garden of Words\nSource: The Movie Database (TMDB)' style='height: 200px; margin-bottom: 10px' src='http://image.tmdb.org/t/p/w780/kaAnWQb0cZvVwBCGQ1oitsMfv7u.jpg'></a><a href='https://www.themoviedb.org/movie/329' target='_blank'><img title='Jurassic Park\nSource: The Movie Database (TMDB)' style='height: 200px; margin-bottom: 10px' src='http://image.tmdb.org/t/p/w780/O4x17I1o4K4QHZvIsnJVT9GfPq.jpg'></a><a href='https://www.themoviedb.org/movie/399566' target='_blank'><img title='Godzilla vs. Kong\nSource: The Movie Database (TMDB)' style='height: 200px; margin-bottom: 10px' src='http://image.tmdb.org/t/p/w780/vpdBOYTWgjrh90JN1Yc1YnCPFkD.jpg'></a><a href='https://www.themoviedb.org/movie/399566' target='_blank'><img title='Godzilla vs. Kong\nSource: The Movie Database (TMDB)' style='height: 200px; margin-bottom: 10px' src='http://image.tmdb.org/t/p/w780/pX0xvPSj6GUBRpf0thzZSZsekQK.jpg'></a><a href='https://www.themoviedb.org/movie/8741' target='_blank'><img title='The Thin Red Line\nSource: The Movie Database (TMDB)' style='height: 200px; margin-bottom: 10px' src='http://image.tmdb.org/t/p/w780/3lPSsW3VzgUnIkJg2keFDVy5PPW.jpg'></a><a href='https://www.themoviedb.org/movie/24428' target='_blank'><img title='The Avengers\nSource: The Movie Database (TMDB)' style='height: 200px; margin-bottom: 10px' src='http://image.tmdb.org/t/p/w780/p1AZxnlmHsM2eKQaOgwD1p2EEuB.jpg'></a><a href='https://www.themoviedb.org/movie/329' target='_blank'><img title='Jurassic Park\nSource: The Movie Database (TMDB)' style='height: 200px; margin-bottom: 10px' src='http://image.tmdb.org/t/p/w780/um7dCYud1VGIsjTmSTvhO0QNTFr.jpg'></a><a href='https://www.themoviedb.org/movie/10191' target='_blank'><img title='How to Train Your Dragon\nSource: The Movie Database (TMDB)' style='height: 200px; margin-bottom: 10px' src='http://image.tmdb.org/t/p/w780/zYltonEJitG5EYciuJEgbMTKjSB.jpg'></a><a href='https://www.themoviedb.org/movie/105' target='_blank'><img title='Back to the Future\nSource: The Movie Database (TMDB)' style='height: 200px; margin-bottom: 10px' src='http://image.tmdb.org/t/p/w780/xwvPoLglKNX9hKexF8qnBGB9R1s.jpg'></a><a href='https://www.themoviedb.org/movie/620' target='_blank'><img title='Ghostbusters\nSource: The Movie Database (TMDB)' style='height: 200px; margin-bottom: 10px' src='http://image.tmdb.org/t/p/w780/vdspghnzVSyLFMhNbXmNdHvWAro.jpg'></a><a href='https://www.themoviedb.org/movie/399566' target='_blank'><img title='Godzilla vs. Kong\nSource: The Movie Database (TMDB)' style='height: 200px; margin-bottom: 10px' src='http://image.tmdb.org/t/p/w780/yOnWwGjRJsb4tHHzk6t5TuiOE3L.jpg'></a><a href='https://www.themoviedb.org/movie/57158' target='_blank'><img title='The Hobbit: The Desolation of Smaug\nSource: The Movie Database (TMDB)' style='height: 200px; margin-bottom: 10px' src='http://image.tmdb.org/t/p/w780/6GGpZHvSpeIm5Tk5yn5P5ibUNjF.jpg'></a><a href='https://www.themoviedb.org/movie/329' target='_blank'><img title='Jurassic Park\nSource: The Movie Database (TMDB)' style='height: 200px; margin-bottom: 10px' src='http://image.tmdb.org/t/p/w780/mDvgmYU4FXLAlURTsgZxVUQ4XYQ.jpg'></a><a href='https://www.themoviedb.org/movie/128' target='_blank'><img title='Princess Mononoke\nSource: The Movie Database (TMDB)' style='height: 200px; margin-bottom: 10px' src='http://image.tmdb.org/t/p/w780/wB6aHmRHy9GPozagH5RM7wDZVvK.jpg'></a></div>"
                },
                "metadata": {}
              }
            ]
          }
        },
        "1497a9547cae4543946b54df0e8c267f": {
          "model_module": "@jupyter-widgets/base",
          "model_name": "LayoutModel",
          "model_module_version": "1.2.0",
          "state": {
            "_model_module": "@jupyter-widgets/base",
            "_model_module_version": "1.2.0",
            "_model_name": "LayoutModel",
            "_view_count": null,
            "_view_module": "@jupyter-widgets/base",
            "_view_module_version": "1.2.0",
            "_view_name": "LayoutView",
            "align_content": null,
            "align_items": null,
            "align_self": null,
            "border": null,
            "bottom": null,
            "display": null,
            "flex": null,
            "flex_flow": null,
            "grid_area": null,
            "grid_auto_columns": null,
            "grid_auto_flow": null,
            "grid_auto_rows": null,
            "grid_column": null,
            "grid_gap": null,
            "grid_row": null,
            "grid_template_areas": null,
            "grid_template_columns": null,
            "grid_template_rows": null,
            "height": null,
            "justify_content": null,
            "justify_items": null,
            "left": null,
            "margin": null,
            "max_height": null,
            "max_width": null,
            "min_height": null,
            "min_width": null,
            "object_fit": null,
            "object_position": null,
            "order": null,
            "overflow": null,
            "overflow_x": null,
            "overflow_y": null,
            "padding": null,
            "right": null,
            "top": null,
            "visibility": null,
            "width": null
          }
        }
      }
    },
    "accelerator": "GPU"
  },
  "cells": [
    {
      "cell_type": "markdown",
      "metadata": {
        "id": "view-in-github",
        "colab_type": "text"
      },
      "source": [
        "<a href=\"https://colab.research.google.com/gist/KhawajaMuddassar/ac59c00a7b63babfd256e1419c72d030/clip-semantic-image-search.ipynb\" target=\"_parent\"><img src=\"https://colab.research.google.com/assets/colab-badge.svg\" alt=\"Open In Colab\"/></a>"
      ]
    },
    {
      "cell_type": "markdown",
      "source": [
        "## **CLIP (Contrastive Language-Image Pre-training)**\n",
        "\n",
        "**Contrastive learning** is a technique used in machine learning, particularly in the field of unsupervised learning where we teach an AI model to recognize similarities and differences of a large number of data points.\n",
        "\n",
        "Contrastive Language-Image Pre-training (CLIP) is a multimodal vision and language model architecture developed by OpenAI that learns visual concepts from natural language descriptions. It can be used for image-text similarity and for zero-shot image classification. Its effectiveness comes from a large-scale, diverse dataset of images and texts.\n",
        "\n",
        "\n",
        "**CLIP Architecture:**\n",
        "Contrastive Language-Image Pre-training (CLIP) uses a dual-encoder architecture to map images and text into a shared latent space and it works by jointly training two encoders. One encoder for images (Vision Transformer for visual features) and one for text (Transformer-based language model for text features).\n",
        "\n",
        " * **Image Encoder:** The image encoder extracts salient features from the visual input. This encoder takes an 'image as input' and produces a high-dimensional vector representation. It typically uses a ViT / convolutional neural network (CNN) architecture, like ResNet, for extracting image features.\n",
        "\n",
        "* **Text Encoder:** The text encoder encodes the semantic meaning of the corresponding textual description. It takes a 'text caption/label as input' and produces another high-dimensional vector representation. It often uses a transformer-based architecture, like a Transformer or BERT, to process text sequences.\n",
        "\n",
        "* **Shared Embedding Space / Laten Space:** Both the text and visual features are then projected to a latent space with identical dimension. The dot product between the projected image and text features is then used as a similar score. These shared embedding spaces allow CLIP to compare text and image representations and learn their underlying relationships.\n",
        "\n",
        "\n",
        "\n",
        "**Training Process:**\n",
        "\n",
        "![clip.jpg](data:image/jpeg;base64,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)\n",
        "\n",
        "CLIP Paper: https://arxiv.org/pdf/2103.00020\n",
        "\n",
        "\n",
        "\n",
        "**Step 1: Contrastive Pre-training**\n",
        "\n",
        "CLIP is trained on a vast dataset consisting of apx. 400 million image-text pairs sourced from the internet. During the pre-training process, the model is fed pairs of images and their corresponding text captions. Some of these pairs are correct matches (where the caption accurately reflects the image), while others are incorrect. The model learns to create shared latent space embeddings for these pairs..\n",
        "\n",
        "**Step 2: Create Dataset Classifiers from Label Text**\n",
        "\n",
        "For each image, several text descriptions are generated, including the correct one and several incorrect ones. This results in a combination of positive samples (correct matches) and negative samples (mismatched pairs). These descriptions are then input into the text encoder, which generates class-specific embeddings.\n",
        "\n",
        "At this point, the Contrastive Loss Function plays a key role. This function penalizes the model for incorrect image-text pairings and rewards it for correct matches in the latent space. It guides the model to learn representations that effectively capture the similarities between visual and textual information.\n",
        "\n",
        "**Step 3: Zero-shot Prediction**\n",
        "\n",
        "Now, the trained text encoder is used as a zero-shot classifier. With a new image, CLIP can make zero-shot predictions. This is done by passing it through the image encoder and the dataset classifier without fine-tuning.\n",
        "\n",
        "CLIP calculates the cosine similarity between the embeddings of all image-text pairs. It adjusts the encoder parameters to maximize the similarity of correct pairs, while minimizing the similarity of incorrect ones.\n",
        "This way, CLIP learns a multimodal embedding space where semantically related images and texts are mapped close to each other. The predicted class is the one with the highest logit value.\n",
        "\n",
        "\n",
        "**Task-Specific Classes:** Several task-specific classes/APIs available when preparing data to be fed into the CLIP model.\n",
        "\n",
        "* **CLIPImageProcessor** is used to resize (or rescale) and normalize images for model input\n",
        "* **CLIPTokenizer** encodes the text.\n",
        "* **CLIPProcessor** integrates both the **CLIPImageProcessor** and **CLIPTokenizer** into a single instance, facilitating the preparation of both images and text for input.\n",
        "* **For Similarity Scores**  to compute image-text using the **CLIPProcessor** and **CLIPModel**"
      ],
      "metadata": {
        "id": "-uwVyP6Lkcnb"
      }
    },
    {
      "cell_type": "markdown",
      "source": [
        "\n",
        "# **Image Search Engine:**\n",
        "We will build an interactive tool that allows users to search for images using a simple text query. This tool leverages a pre-trained CLIP model, which is designed to match images with text. By using this model, the tool enables you to find images that closely correspond to the words or descriptions you input, making it ideal for applications that require image-text search functionality.\n",
        "We will follow the strategy outlined below to develop the application.\n",
        "\n",
        "* **Model Setup:** The script loads the pre-trained CLIP model and processor using HuggingFace's transformers library.\n",
        "\n",
        "* **Data Download:** It downloads data (CSV) and precomputed embeddings for images from two sources (Unsplash and Movies).\n",
        "\n",
        "* **Text Embeddings Calculation:** It computes the text embeddings of the search query using the CLIP model.\n",
        "\n",
        "* **Similarity Search:** The embeddings of the search query are compared with those of the images to find the most similar images.\n",
        "\n",
        "* **Interactive Widgets:** The code sets up interactive input fields and displays the search results as clickable images, with links to their sources.\n",
        "\n"
      ],
      "metadata": {
        "id": "SXinktPIA9kH"
      }
    },
    {
      "cell_type": "code",
      "execution_count": 1,
      "metadata": {
        "id": "zssk_okWAzN4"
      },
      "outputs": [],
      "source": [
        "# Install required packages\n",
        "%pip install -q transformers >/dev/null\n",
        "\n",
        "# Import libraries\n",
        "import os, pandas as pd, numpy as np , urllib.request, ipywidgets as widgets\n",
        "from transformers import CLIPProcessor, CLIPTextModel, CLIPModel, logging\n",
        "from IPython.display import display, Markdown, HTML, clear_output\n"
      ]
    },
    {
      "cell_type": "code",
      "source": [
        "# Set loggin level to suppress unnessary logging info\n",
        "logging.get_verbosity = lambda: logging.NOTSET\n",
        "\n",
        "# Load pre-trained CLIP model and processor\n",
        "model = CLIPModel.from_pretrained('openai/clip-vit-base-patch32')\n",
        "processor = CLIPProcessor.from_pretrained('openai/clip-vit-base-patch32')\n",
        "#clear out any previous output\n",
        "clear_output()"
      ],
      "metadata": {
        "id": "Pi9ZvZqQE3Lf"
      },
      "execution_count": 2,
      "outputs": []
    },
    {
      "cell_type": "code",
      "source": [
        "#Function to compute text embedding\n",
        "# Takes a list of strings, processes them using the CLIPProcessor, and then computes their embeddings using the CLIP model\n",
        "def calc_text_embedding(list_strings):\n",
        "    inputs = processor(text=list_strings, return_tensors=\"pt\", padding=True)\n",
        "    return model.get_text_features(**inputs)\n",
        "\n",
        "# Download CSV and embedding files from a URL\n",
        "# embeddings.npy & embeddings2.npy are precomputed embeddings\n",
        "urllib.request.urlretrieve('https://huggingface.co/spaces/vivien/clip/raw/main/data.csv', 'data.csv')\n",
        "urllib.request.urlretrieve('https://huggingface.co/spaces/vivien/clip/raw/main/data2.csv', 'data2.csv')\n",
        "urllib.request.urlretrieve('https://huggingface.co/spaces/vivien/clip/resolve/main/embeddings-vit-base-patch32.npy', 'embeddings.npy')\n",
        "urllib.request.urlretrieve('https://huggingface.co/spaces/vivien/clip/resolve/main/embeddings2-vit-base-patch32.npy', 'embeddings2.npy')\n",
        "\n",
        "# Load data into pandas DataFrames and embeddings into NumPy arrays\n",
        "df = {0: pd.read_csv('data.csv'), 1: pd.read_csv('data2.csv')}\n",
        "embeddings = {0: np.load('embeddings.npy'), 1: np.load('embeddings2.npy')}\n",
        "\n",
        "# Normalize the embeddings by dividing each embedding vector by its L2 norm.\n",
        "# This ensures that all embeddings have unit length, which is important for comparison in the later steps\n",
        "for k in [0, 1]:\n",
        "    embeddings[k] = np.divide(embeddings[k], np.sqrt(np.sum(embeddings[k]**2, axis=1, keepdims=True)))\n",
        "\n",
        "# Define the source of the data based on the dataset\n",
        "source = {0: '\\nSource: Unsplash', 1: '\\nSource: The Movie Database (TMDB)'}\n"
      ],
      "metadata": {
        "id": "R5EWhVqDE3Jt"
      },
      "execution_count": 3,
      "outputs": []
    },
    {
      "cell_type": "code",
      "source": [
        "# Function to create HTML for displaying images in a grid\n",
        "def get_html(url_list, height=200):\n",
        "    html = \"<div style='margin-top: 20px; display: flex; flex-wrap: wrap; justify-content: space-evenly'>\"\n",
        "    for url, title, link in url_list:\n",
        "        html2 = f\"<img title='{title}' style='height: {height}px; margin-bottom: 10px' src='{url}'>\"\n",
        "        if len(link) > 0:\n",
        "            html2 = f\"<a href='{link}' target='_blank'>\" + html2 + \"</a>\"\n",
        "        html = html + html2\n",
        "    html += \"</div>\"\n",
        "    return html\n",
        "\n",
        "# Function to search for images based on the query\n",
        "# which computes the embeddings for the user's query and\n",
        "# compares them with the precomputed embeddings using a dot product\n",
        "def image_search(query, n_results=24):\n",
        "    text_embeddings = calc_text_embedding([query]).detach().numpy()\n",
        "    k = 0 if dataset.value == 'Unsplash' else 1\n",
        "    # Perform a similarity search to find the closest images\n",
        "    results = np.argsort((embeddings[k]@text_embeddings.T)[:, 0])[-1:-n_results-1:-1]\n",
        "    return [(df[k].iloc[i]['path'], df[k].iloc[i]['tooltip'] + source[k], df[k].iloc[i]['link']) for i in results]\n",
        "\n",
        "# Function to handle the button click and display the results\n",
        "def on_button_clicked(b):\n",
        "    if len(query.value) > 0:\n",
        "        results = image_search(query.value)\n",
        "        output.clear_output()\n",
        "        with output:\n",
        "            display(HTML(get_html(results)))\n"
      ],
      "metadata": {
        "id": "GVqtXsX6Iuq_"
      },
      "execution_count": 10,
      "outputs": []
    },
    {
      "cell_type": "code",
      "source": [
        "# Create input fields and button for the user\n",
        "query = widgets.Text(layout=widgets.Layout(width='400px'))\n",
        "dataset = widgets.Dropdown(\n",
        "    options=['Unsplash', 'Movies'],\n",
        "    value='Unsplash')\n",
        "button = widgets.Button(description=\"Search it\")\n",
        "output = widgets.Output()\n",
        "display(widgets.HBox([query, button, dataset], layout=widgets.Layout(justify_content='center')), output)\n",
        "\n",
        "# Attach the event handler to the button click\n",
        "button.on_click(on_button_clicked)\n",
        "\n",
        "# Also trigger the button click when the dataset dropdown is changed\n",
        "dataset.observe(on_button_clicked, names='value')\n",
        "\n"
      ],
      "metadata": {
        "colab": {
          "base_uri": "https://localhost:8080/",
          "height": 1000,
          "referenced_widgets": [
            "6e7cf4aa2ae64cdeabe81e29f20c8de3",
            "075d29d319ad4d468affdb53833f5286",
            "4074dcd9450742dd9d88712e54bfbbf9",
            "b6ead3d7977b4490a141dfb34088ddec",
            "dded3c8b39014240aebf0a6e1c76f6ca",
            "8e2a0a5957e046f3a2a4a9bc2f01c28e",
            "3aebe390a7124c5d9d790ddb4e73cd18",
            "62a3611b4edc42c2bbba6a71f5f2d087",
            "33d8a5d75f7c42408f81613d00b6bb70",
            "012abb933a4a4ec1b70e5a64d0bc4596",
            "24079a9ef99a40e4aa81cdc93719e59d",
            "2a83143146c5481d92cf42e01566bca8",
            "1497a9547cae4543946b54df0e8c267f"
          ]
        },
        "id": "W9324bgPJX13",
        "outputId": "bd0feefc-1124-49ac-b33a-51b445198506"
      },
      "execution_count": 11,
      "outputs": [
        {
          "output_type": "display_data",
          "data": {
            "text/plain": [
              "HBox(children=(Text(value='', layout=Layout(width='400px')), Button(description='Search it', style=ButtonStyle…"
            ],
            "application/vnd.jupyter.widget-view+json": {
              "version_major": 2,
              "version_minor": 0,
              "model_id": "6e7cf4aa2ae64cdeabe81e29f20c8de3"
            }
          },
          "metadata": {}
        },
        {
          "output_type": "display_data",
          "data": {
            "text/plain": [
              "Output()"
            ],
            "application/vnd.jupyter.widget-view+json": {
              "version_major": 2,
              "version_minor": 0,
              "model_id": "2a83143146c5481d92cf42e01566bca8"
            }
          },
          "metadata": {}
        }
      ]
    }
  ]
}